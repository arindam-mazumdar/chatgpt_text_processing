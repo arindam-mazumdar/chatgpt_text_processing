{
 "cells": [
  {
   "cell_type": "markdown",
   "metadata": {},
   "source": [
    "# Extracting information from legal documents\n",
    "\n",
    "We have a bunch of legal files, more precisely gift agreements that contain information about who gifted whom what. For each agreement we would like to extract the names of the donor and recipient as well as what was gifted. If you browse through the files, you will see that all of the information is there, but accomplishing this task by hand would be tedious. We will instead use ChatGPT to help us.\n",
    "\n",
    "### Steps:\n",
    "\n",
    "- Setup API keys in OpenAI and save it in an .env file\n",
    "- Start simple prompt to work with\n",
    "- Feed the legal documents\n",
    "    - **Limitation**: If you are in a free version API, you can maximally send 3 requests per minute. Therfore we will use a 'sleep' comand in the code in this step.\n",
    "- Extract results in pandas dataframe"
   ]
  },
  {
   "cell_type": "code",
   "execution_count": 1,
   "metadata": {},
   "outputs": [],
   "source": [
    "import os\n",
    "import openai\n",
    "from dotenv import load_dotenv\n",
    "_ = load_dotenv('chatgpt.env') \n",
    "\n",
    "openai.api_key  = os.getenv('OPENAI_API_KEY')"
   ]
  },
  {
   "cell_type": "code",
   "execution_count": 2,
   "metadata": {},
   "outputs": [],
   "source": [
    "simple_prompt = 'How much is 2 + 2?'\n",
    "response = openai.ChatCompletion.create(model='gpt-3.5-turbo',\n",
    "                                        temperature=0, # degree of randomness of the output           \n",
    "                                        messages=[{'role': 'user', 'content': simple_prompt}]\n",
    "                                       )"
   ]
  },
  {
   "cell_type": "code",
   "execution_count": 3,
   "metadata": {},
   "outputs": [
    {
     "name": "stdout",
     "output_type": "stream",
     "text": [
      "2 + 2 equals 4.\n"
     ]
    }
   ],
   "source": [
    "print(response.choices[0].message.content)"
   ]
  },
  {
   "cell_type": "markdown",
   "metadata": {},
   "source": [
    "Since our simple prompt is working fine we move forward with our original task. Let's first look at the contect of our legal gift documents "
   ]
  },
  {
   "cell_type": "code",
   "execution_count": 4,
   "metadata": {},
   "outputs": [
    {
     "name": "stdout",
     "output_type": "stream",
     "text": [
      "Gift Agreement\n",
      "\n",
      "This Gift Agreement (\"Agreement\") is entered into on this 20th day of September, 2022, (\"Effective Date\") between the following parties:\n",
      "\n",
      "Donor:\n",
      "Name: Michael Thompson\n",
      "Address: 567 Pine Street, Cityville, USA\n",
      "Email: michael.thompson@email.com\n",
      "\n",
      "Recipient:\n",
      "Name: Sarah Roberts\n",
      "Address: 890 Oak Avenue, Cityville, USA\n",
      "Email: sarah.roberts@email.com\n",
      "\n",
      "    Gift Description:\n",
      "\n",
      "The Donor, Michael Thompson, gifts and transfers to the Recipient, Sarah Roberts a Gift in the amount of $20,500 Cash as well as a Vintage armchair.\n",
      "\n",
      "    Title and Ownership:\n",
      "\n",
      "Michael Thompson represents that he is the legal owner of the Gift and has full authority to transfer ownership to Sarah Roberts.\n",
      "\n",
      "    Consideration:\n",
      "\n",
      "The Gift is given without any monetary or other valuable consideration by Sarah Roberts.\n",
      "\n",
      "    Delivery:\n",
      "\n",
      "Michael Thompson shall deliver the Gift to Sarah Roberts on or before the Effective Date, either physically or by any mutually agreed-upon method.\n",
      "\n",
      "    Condition of Gift:\n",
      "\n",
      "Michael Thompson warrants that the Gift is free from any liens, encumbrances, or claims and is in good condition as of the Effective Date.\n",
      "\n",
      "    Tax Responsibility:\n",
      "\n",
      "Michael Thompson acknowledges that any applicable taxes, including but not limited to gift taxes or transfer taxes, arising from this Gift shall be the sole responsibility of Michael Thompson.\n",
      "\n",
      "    Confidentiality:\n",
      "\n",
      "Both parties agree to keep the terms and details of this Agreement confidential, unless otherwise required by law.\n",
      "\n",
      "    Governing Law and Jurisdiction:\n",
      "\n",
      "This Agreement shall be governed by and construed in accordance with the laws of the state of California. Any disputes arising out of or in connection with this Agreement shall be subject to the exclusive jurisdiction of the courts of California.\n",
      "\n",
      "    Entire Agreement:\n",
      "\n",
      "This Agreement constitutes the entire understanding between the parties and supersedes all prior agreements, whether written or oral, relating to the subject matter herein.\n",
      "\n",
      "    Severability:\n",
      "\n",
      "If any provision of this Agreement is held to be invalid, illegal, or unenforceable, the remaining provisions shall continue in full force and effect.\n",
      "\n",
      "    Amendments:\n",
      "\n",
      "Any amendments to this Agreement shall be in writing and signed by both parties.\n",
      "\n",
      "IN WITNESS WHEREOF, the parties have executed this Gift Agreement as of the Effective Date.\n",
      "\n"
     ]
    }
   ],
   "source": [
    "with open('./documents/Gift_Agreement_2431.txt', 'r') as f:\n",
    "    content = f.read()\n",
    "    print(content)"
   ]
  },
  {
   "cell_type": "code",
   "execution_count": 5,
   "metadata": {},
   "outputs": [],
   "source": [
    "def generate_response(prompt):\n",
    "    \"\"\"\n",
    "    Query OpenAI API to get response.\n",
    "    \"\"\"\n",
    "\n",
    "    response = openai.ChatCompletion.create(model='gpt-3.5-turbo',\n",
    "                                            temperature=0, # degree of randomness of output           \n",
    "                                            messages=[{'role': 'user', 'content': prompt}]\n",
    "                                           )\n",
    "                                \n",
    "    \n",
    "    return response.choices[0].message.content\n",
    "\n",
    "\n",
    "def generate_prompt(gift_contract_text):\n",
    "    \"\"\"\n",
    "    Create prompt that gets sent to OpenAI API.\n",
    "    \"\"\"\n",
    "\n",
    "    prompt = f'''Extract just the donor name, recipient name and the exact gift from \n",
    "                 the contract. Give the result as JSON with fields Donor, \n",
    "                 Recipient and Gift. If there are several gifts break it \n",
    "                 into a simple list of strings. {gift_contract_text}'''\n",
    "    \n",
    "    return prompt"
   ]
  },
  {
   "cell_type": "markdown",
   "metadata": {},
   "source": [
    "We decided to ask ChatGPT to give us the results in the form of JSON so we could easily process the output further if we wanted to.\n",
    "\n",
    "Let's try it on one contract."
   ]
  },
  {
   "cell_type": "code",
   "execution_count": 6,
   "metadata": {},
   "outputs": [],
   "source": [
    "output = generate_response(generate_prompt(content))"
   ]
  },
  {
   "cell_type": "code",
   "execution_count": 8,
   "metadata": {},
   "outputs": [],
   "source": [
    "import json"
   ]
  },
  {
   "cell_type": "code",
   "execution_count": 12,
   "metadata": {},
   "outputs": [
    {
     "data": {
      "text/plain": [
       "{'Donor': 'Michael Thompson',\n",
       " 'Recipient': 'Sarah Roberts',\n",
       " 'Gift': ['$20,500 Cash', 'Vintage armchair']}"
      ]
     },
     "execution_count": 12,
     "metadata": {},
     "output_type": "execute_result"
    }
   ],
   "source": [
    "import json\n",
    "json.loads(output)"
   ]
  },
  {
   "cell_type": "markdown",
   "metadata": {},
   "source": [
    "Now let's implement it on all the documents that we have with us:"
   ]
  },
  {
   "cell_type": "code",
   "execution_count": 9,
   "metadata": {},
   "outputs": [
    {
     "name": "stdout",
     "output_type": "stream",
     "text": [
      "Processing 0-th file\n",
      "Processing 1-th file\n",
      "Processing 2-th file\n",
      "Processing 3-th file\n"
     ]
    }
   ],
   "source": [
    "from glob import glob\n",
    "\n",
    "files = glob('documents/*.txt')\n",
    "import time\n",
    "\n",
    "\n",
    "def process_agreement(filename):\n",
    "    time.sleep(15)\n",
    "    with open(filename, 'r') as f:\n",
    "        contract_text = f.read()\n",
    "    \n",
    "    output = generate_response(generate_prompt(contract_text))\n",
    "    \n",
    "    return json.loads(output)\n",
    "\n",
    "\n",
    "processed_agreements = []\n",
    "for i in range(len(files)):\n",
    "    print(f'Processing {i}-th file')\n",
    "    processed_agreements.append(process_agreement(files[i]))"
   ]
  },
  {
   "cell_type": "markdown",
   "metadata": {},
   "source": [
    "Let us display the result in a Pandas Dataframe"
   ]
  },
  {
   "cell_type": "code",
   "execution_count": 10,
   "metadata": {},
   "outputs": [],
   "source": [
    "import pandas as pd"
   ]
  },
  {
   "cell_type": "code",
   "execution_count": 15,
   "metadata": {},
   "outputs": [],
   "source": [
    "df = pd.DataFrame(processed_agreements)"
   ]
  },
  {
   "cell_type": "code",
   "execution_count": 16,
   "metadata": {},
   "outputs": [
    {
     "data": {
      "text/html": [
       "<div>\n",
       "<style scoped>\n",
       "    .dataframe tbody tr th:only-of-type {\n",
       "        vertical-align: middle;\n",
       "    }\n",
       "\n",
       "    .dataframe tbody tr th {\n",
       "        vertical-align: top;\n",
       "    }\n",
       "\n",
       "    .dataframe thead th {\n",
       "        text-align: right;\n",
       "    }\n",
       "</style>\n",
       "<table border=\"1\" class=\"dataframe\">\n",
       "  <thead>\n",
       "    <tr style=\"text-align: right;\">\n",
       "      <th></th>\n",
       "      <th>Donor</th>\n",
       "      <th>Recipient</th>\n",
       "      <th>Gift</th>\n",
       "    </tr>\n",
       "  </thead>\n",
       "  <tbody>\n",
       "    <tr>\n",
       "      <th>0</th>\n",
       "      <td>Michael Thompson</td>\n",
       "      <td>Sarah Roberts</td>\n",
       "      <td>[$20,500 Cash, Vintage armchair]</td>\n",
       "    </tr>\n",
       "    <tr>\n",
       "      <th>1</th>\n",
       "      <td>John Anderson</td>\n",
       "      <td>Sarah Johnson</td>\n",
       "      <td>[Antique Gold Watch, Handcrafted Wooden Jewelr...</td>\n",
       "    </tr>\n",
       "    <tr>\n",
       "      <th>2</th>\n",
       "      <td>Jane Kasich</td>\n",
       "      <td>Luis Kepler</td>\n",
       "      <td>[Cash gift of $5,000 (USD)]</td>\n",
       "    </tr>\n",
       "    <tr>\n",
       "      <th>3</th>\n",
       "      <td>Matthew Anderson</td>\n",
       "      <td>Jessica Miller</td>\n",
       "      <td>[residential property located at 789 Elm Avenu...</td>\n",
       "    </tr>\n",
       "  </tbody>\n",
       "</table>\n",
       "</div>"
      ],
      "text/plain": [
       "              Donor       Recipient  \\\n",
       "0  Michael Thompson   Sarah Roberts   \n",
       "1     John Anderson   Sarah Johnson   \n",
       "2       Jane Kasich     Luis Kepler   \n",
       "3  Matthew Anderson  Jessica Miller   \n",
       "\n",
       "                                                Gift  \n",
       "0                   [$20,500 Cash, Vintage armchair]  \n",
       "1  [Antique Gold Watch, Handcrafted Wooden Jewelr...  \n",
       "2                        [Cash gift of $5,000 (USD)]  \n",
       "3  [residential property located at 789 Elm Avenu...  "
      ]
     },
     "execution_count": 16,
     "metadata": {},
     "output_type": "execute_result"
    }
   ],
   "source": [
    "df "
   ]
  },
  {
   "cell_type": "code",
   "execution_count": null,
   "metadata": {},
   "outputs": [],
   "source": []
  }
 ],
 "metadata": {
  "kernelspec": {
   "display_name": "Python 3",
   "language": "python",
   "name": "python3"
  },
  "language_info": {
   "codemirror_mode": {
    "name": "ipython",
    "version": 3
   },
   "file_extension": ".py",
   "mimetype": "text/x-python",
   "name": "python",
   "nbconvert_exporter": "python",
   "pygments_lexer": "ipython3",
   "version": "3.8.3"
  }
 },
 "nbformat": 4,
 "nbformat_minor": 4
}
